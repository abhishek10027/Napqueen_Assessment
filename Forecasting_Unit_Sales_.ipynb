{
  "nbformat": 4,
  "nbformat_minor": 0,
  "metadata": {
    "colab": {
      "provenance": []
    },
    "kernelspec": {
      "name": "python3",
      "display_name": "Python 3"
    },
    "language_info": {
      "name": "python"
    }
  },
  "cells": [
    {
      "cell_type": "markdown",
      "source": [
        "#Task\n",
        "In this task, you will work with dummy sales data of a well-known brand on Amazon. Your objective is to build a time series forecasting model that predicts the number of units sold for each item ID.\n"
      ],
      "metadata": {
        "id": "6r9HnKIu2WUd"
      }
    },
    {
      "cell_type": "markdown",
      "source": [
        "## Load the datasets"
      ],
      "metadata": {
        "id": "3WycuW4KwUWz"
      }
    },
    {
      "cell_type": "code",
      "execution_count": 1,
      "metadata": {
        "id": "fuga223zwMGc"
      },
      "outputs": [],
      "source": [
        "import numpy as np\n",
        "import pandas as pd\n",
        "import matplotlib.pyplot as plt\n",
        "import seaborn as sns\n",
        "\n",
        "# Load the datasets\n",
        "data = pd.read_csv(\"/content/train.csv\")"
      ]
    },
    {
      "cell_type": "markdown",
      "source": [
        "#Exploratory Data Analysis (EDA)"
      ],
      "metadata": {
        "id": "qvYfqNHaxgBr"
      }
    },
    {
      "cell_type": "code",
      "source": [
        "# EDA for Training Dataset\n",
        "print(\"Training Dataset\")\n",
        "print(data.head())\n",
        "print(data.info())\n",
        "print(data.describe())\n",
        "print(\"Missing Values:\\n\", data.isnull().sum())\n",
        "\n",
        "# Drop rows with missing values\n",
        "data.dropna(inplace=True)\n",
        "\n",
        "# Convert the 'date' column to datetime format\n",
        "data['date'] = pd.to_datetime(data['date'])\n",
        "\n",
        "# Extract additional features from the date\n",
        "data['year'] = data['date'].dt.year\n",
        "data['month'] = data['date'].dt.month\n",
        "data['day'] = data['date'].dt.day\n",
        "data['dayofweek'] = data['date'].dt.dayofweek\n",
        "data['weekofyear'] = data['date'].dt.isocalendar().week\n",
        "\n"
      ],
      "metadata": {
        "colab": {
          "base_uri": "https://localhost:8080/"
        },
        "id": "NFaJ6qYvwe37",
        "outputId": "e3ba0b8b-c5ed-4ce1-a426-5ea8b613688a"
      },
      "execution_count": 3,
      "outputs": [
        {
          "output_type": "stream",
          "name": "stdout",
          "text": [
            "Training Dataset\n",
            "                         ID       date     Item Id  \\\n",
            "5261  2022-08-06_B09KSXP3HN 2022-08-06  B09KSXP3HN   \n",
            "5263  2022-08-06_B09KF1P32N 2022-08-06  B09KF1P32N   \n",
            "5265  2022-08-06_B09KDYY3SB 2022-08-06  B09KDYY3SB   \n",
            "5266  2022-08-06_B09KDW1YKQ 2022-08-06  B09KDW1YKQ   \n",
            "5267  2022-08-06_B09KDNYCYR 2022-08-06  B09KDNYCYR   \n",
            "\n",
            "                                              Item Name  ad_spend anarix_id  \\\n",
            "5261       NapQueen Elsa 8\" Innerspring Mattress, Queen      0.00  NAPQUEEN   \n",
            "5263  NapQueen Elizabeth 12\" Gel Memory Foam Mattres...     44.46  NAPQUEEN   \n",
            "5265  NapQueen Elizabeth 10\" Gel Memory Foam Mattres...      0.00  NAPQUEEN   \n",
            "5266  NapQueen Elizabeth 8\" Gel Memory Foam Mattress...      7.47  NAPQUEEN   \n",
            "5267  NapQueen Elizabeth 8\" Gel Memory Foam Mattress...   1187.33  NAPQUEEN   \n",
            "\n",
            "      units  unit_price  year  month  day  dayofweek  weekofyear  \n",
            "5261    1.0         0.0  2022      8    6          5          31  \n",
            "5263    1.0         0.0  2022      8    6          5          31  \n",
            "5265    2.0         0.0  2022      8    6          5          31  \n",
            "5266    0.0         0.0  2022      8    6          5          31  \n",
            "5267    0.0         0.0  2022      8    6          5          31  \n",
            "<class 'pandas.core.frame.DataFrame'>\n",
            "Index: 58763 entries, 5261 to 101479\n",
            "Data columns (total 13 columns):\n",
            " #   Column      Non-Null Count  Dtype         \n",
            "---  ------      --------------  -----         \n",
            " 0   ID          58763 non-null  object        \n",
            " 1   date        58763 non-null  datetime64[ns]\n",
            " 2   Item Id     58763 non-null  object        \n",
            " 3   Item Name   58763 non-null  object        \n",
            " 4   ad_spend    58763 non-null  float64       \n",
            " 5   anarix_id   58763 non-null  object        \n",
            " 6   units       58763 non-null  float64       \n",
            " 7   unit_price  58763 non-null  float64       \n",
            " 8   year        58763 non-null  int32         \n",
            " 9   month       58763 non-null  int32         \n",
            " 10  day         58763 non-null  int32         \n",
            " 11  dayofweek   58763 non-null  int32         \n",
            " 12  weekofyear  58763 non-null  UInt32        \n",
            "dtypes: UInt32(1), datetime64[ns](1), float64(3), int32(4), object(4)\n",
            "memory usage: 5.2+ MB\n",
            "None\n",
            "                                date      ad_spend         units  \\\n",
            "count                          58763  58763.000000  58763.000000   \n",
            "mean   2023-07-20 01:55:17.822439168    143.382962     11.963736   \n",
            "min              2022-08-06 00:00:00      0.000000    -99.000000   \n",
            "25%              2023-03-15 00:00:00      0.780000      0.000000   \n",
            "50%              2023-07-19 00:00:00     11.510000      1.000000   \n",
            "75%              2023-11-25 00:00:00     75.185000      6.000000   \n",
            "max              2024-05-31 00:00:00  47934.990000   9004.000000   \n",
            "std                              NaN    601.849619     79.357626   \n",
            "\n",
            "         unit_price          year         month           day     dayofweek  \\\n",
            "count  58763.000000  58763.000000  58763.000000  58763.000000  58763.000000   \n",
            "mean     183.125746   2023.079489      6.160254     15.786243      2.984174   \n",
            "min    -8232.000000   2022.000000      1.000000      1.000000      0.000000   \n",
            "25%        0.000000   2023.000000      3.000000      8.000000      1.000000   \n",
            "50%        0.000000   2023.000000      6.000000     16.000000      3.000000   \n",
            "75%      133.917535   2023.000000      9.000000     24.000000      5.000000   \n",
            "max    21557.390000   2024.000000     12.000000     31.000000      6.000000   \n",
            "std      546.216884      0.535930      3.543781      8.830873      2.000737   \n",
            "\n",
            "       weekofyear  \n",
            "count     58763.0  \n",
            "mean    24.921873  \n",
            "min           1.0  \n",
            "25%          11.0  \n",
            "50%          24.0  \n",
            "75%          38.0  \n",
            "max          52.0  \n",
            "std     15.387658  \n",
            "Missing Values:\n",
            " ID            0\n",
            "date          0\n",
            "Item Id       0\n",
            "Item Name     0\n",
            "ad_spend      0\n",
            "anarix_id     0\n",
            "units         0\n",
            "unit_price    0\n",
            "year          0\n",
            "month         0\n",
            "day           0\n",
            "dayofweek     0\n",
            "weekofyear    0\n",
            "dtype: int64\n"
          ]
        }
      ]
    },
    {
      "cell_type": "code",
      "source": [],
      "metadata": {
        "id": "NoKZ5xW6we66"
      },
      "execution_count": null,
      "outputs": []
    },
    {
      "cell_type": "code",
      "source": [
        "# Plot number of entries per month\n",
        "plt.figure(figsize=(12, 6))\n",
        "sns.countplot(data=data, x='month', palette='viridis')\n",
        "plt.title('Number of Entries per Month (Training Data)')\n",
        "plt.xlabel('Month')\n",
        "plt.ylabel('Number of Entries')\n",
        "plt.show()\n",
        "\n"
      ],
      "metadata": {
        "colab": {
          "base_uri": "https://localhost:8080/",
          "height": 671
        },
        "id": "JsjRUUyJwe92",
        "outputId": "df8c48c5-f774-466d-894c-adfdafedb572"
      },
      "execution_count": 4,
      "outputs": [
        {
          "output_type": "stream",
          "name": "stderr",
          "text": [
            "<ipython-input-4-f7b90c5ed20f>:3: FutureWarning: \n",
            "\n",
            "Passing `palette` without assigning `hue` is deprecated and will be removed in v0.14.0. Assign the `x` variable to `hue` and set `legend=False` for the same effect.\n",
            "\n",
            "  sns.countplot(data=data, x='month', palette='viridis')\n"
          ]
        },
        {
          "output_type": "display_data",
          "data": {
            "text/plain": [
              "<Figure size 1200x600 with 1 Axes>"
            ],
            "image/png": "[encoded data removed]"
          },
          "metadata": {}
        }
      ]
    },
    {
      "cell_type": "code",
      "source": [
        "# Plot distribution of entries by day of the week\n",
        "plt.figure(figsize=(12, 6))\n",
        "sns.countplot(data=data, x='dayofweek', palette='viridis')\n",
        "plt.title('Distribution of Entries by Day of the Week (Training Data)')\n",
        "plt.xlabel('Day of the Week')\n",
        "plt.ylabel('Number of Entries')\n",
        "plt.xticks(ticks=range(7), labels=['Monday', 'Tuesday', 'Wednesday', 'Thursday', 'Friday', 'Saturday', 'Sunday'])\n",
        "plt.show()"
      ],
      "metadata": {
        "colab": {
          "base_uri": "https://localhost:8080/",
          "height": 671
        },
        "id": "YUS9V5t-wfAh",
        "outputId": "eacc6649-c984-4e14-b0f3-cefff75b4a25"
      },
      "execution_count": 5,
      "outputs": [
        {
          "output_type": "stream",
          "name": "stderr",
          "text": [
            "<ipython-input-5-fffc1a6101d0>:3: FutureWarning: \n",
            "\n",
            "Passing `palette` without assigning `hue` is deprecated and will be removed in v0.14.0. Assign the `x` variable to `hue` and set `legend=False` for the same effect.\n",
            "\n",
            "  sns.countplot(data=data, x='dayofweek', palette='viridis')\n"
          ]
        },
        {
          "output_type": "display_data",
          "data": {
            "text/plain": [
              "<Figure size 1200x600 with 1 Axes>"
            ],
            "image/png": "[encoded data removed]"
          },
          "metadata": {}
        }
      ]
    },
    {
      "cell_type": "markdown",
      "source": [
        "#Feature Engineering"
      ],
      "metadata": {
        "id": "28nKyV98x3h7"
      }
    },
    {
      "cell_type": "code",
      "source": [
        "# Create lag features and rolling mean features\n",
        "data['units_lag_1'] = data.groupby('Item Id')['units'].shift(1)\n",
        "data['units_lag_7'] = data.groupby('Item Id')['units'].shift(7)\n",
        "data['units_roll_mean_7'] = data.groupby('Item Id')['units'].transform(lambda x: x.rolling(7).mean())\n",
        "data['units_lag_30'] = data.groupby('Item Id')['units'].shift(30)\n",
        "data['units_roll_mean_30'] = data.groupby('Item Id')['units'].transform(lambda x: x.rolling(30).mean())\n",
        "\n",
        "# Drop rows with any missing values created by lag and rolling window operations\n",
        "data.dropna(inplace=True)\n",
        "\n",
        "# Define feature matrix X and target vector y\n",
        "X = data.drop(['units', 'date', 'Item Id', 'Item Name'], axis=1)\n",
        "y = data['units']\n"
      ],
      "metadata": {
        "id": "Q9idwoXJwfDI"
      },
      "execution_count": 6,
      "outputs": []
    },
    {
      "cell_type": "markdown",
      "source": [
        "#Model Selection"
      ],
      "metadata": {
        "id": "XsumhWPUycIZ"
      }
    },
    {
      "cell_type": "code",
      "source": [
        "from sklearn.model_selection import train_test_split\n",
        "from sklearn.pipeline import Pipeline\n",
        "from sklearn.compose import ColumnTransformer\n",
        "from sklearn.preprocessing import OneHotEncoder, StandardScaler\n",
        "from sklearn.impute import SimpleImputer\n",
        "from sklearn.linear_model import LinearRegression, Ridge, Lasso\n",
        "from sklearn.ensemble import GradientBoostingRegressor\n",
        "from sklearn.metrics import mean_squared_error\n",
        "\n",
        "# Split the data into training and validation sets\n",
        "X_train, X_val, y_train, y_val = train_test_split(X, y, test_size=0.2, random_state=42)\n",
        "\n",
        "# Define categorical and numerical features\n",
        "categorical_features = ['ID', 'anarix_id']\n",
        "numerical_features = X_train.select_dtypes(include=[np.number]).columns.tolist()\n",
        "\n",
        "# Create a column transformer for preprocessing\n",
        "preprocessor = ColumnTransformer(\n",
        "    transformers=[\n",
        "        ('cat', OneHotEncoder(handle_unknown='ignore'), categorical_features),\n",
        "        ('num', Pipeline(steps=[\n",
        "            ('imputer', SimpleImputer(strategy='mean')),\n",
        "            ('scaler', StandardScaler())\n",
        "        ]), numerical_features)\n",
        "    ],\n",
        "    remainder='passthrough'\n",
        ")\n",
        "\n",
        "# Define and train models\n",
        "models = {\n",
        "    'Linear Regression': Pipeline(steps=[\n",
        "        ('preprocessor', preprocessor),\n",
        "        ('model', LinearRegression())\n",
        "    ]),\n",
        "    'Ridge Regression': Pipeline(steps=[\n",
        "        ('preprocessor', preprocessor),\n",
        "        ('model', Ridge(alpha=1.0))\n",
        "    ]),\n",
        "    'Lasso Regression': Pipeline(steps=[\n",
        "        ('preprocessor', preprocessor),\n",
        "        ('model', Lasso(alpha=0.1))\n",
        "    ]),\n",
        "    'Gradient Boosting Machines': Pipeline(steps=[\n",
        "        ('preprocessor', preprocessor),\n",
        "        ('model', GradientBoostingRegressor(n_estimators=100, random_state=42))\n",
        "    ])\n",
        "}\n",
        "\n",
        "# Train and evaluate models\n",
        "mse_scores = {}\n",
        "for model_name, model in models.items():\n",
        "    model.fit(X_train, y_train)\n",
        "    y_pred = model.predict(X_val)\n",
        "    mse = mean_squared_error(y_val, y_pred)\n",
        "    mse_scores[model_name] = mse\n",
        "    print(f\"{model_name} MSE: {mse}\")\n",
        "\n",
        "# Find the best model\n",
        "best_model_name = min(mse_scores, key=mse_scores.get)\n",
        "print(f\"\\nThe best model based on MSE is: {best_model_name} with MSE: {mse_scores[best_model_name]}\")\n"
      ],
      "metadata": {
        "colab": {
          "base_uri": "https://localhost:8080/"
        },
        "id": "I5riyAl6wfGD",
        "outputId": "423f6536-eceb-4ce4-821f-5eb946818c1e"
      },
      "execution_count": 7,
      "outputs": [
        {
          "output_type": "stream",
          "name": "stdout",
          "text": [
            "Linear Regression MSE: 967.195947851786\n",
            "Ridge Regression MSE: 967.1533279634668\n",
            "Lasso Regression MSE: 942.9285037322292\n",
            "Gradient Boosting Machines MSE: 516.6289504200828\n",
            "\n",
            "The best model based on MSE is: Gradient Boosting Machines with MSE: 516.6289504200828\n"
          ]
        }
      ]
    },
    {
      "cell_type": "markdown",
      "source": [
        "#Hyperparameter Tuning"
      ],
      "metadata": {
        "id": "YI6E_PP6ymZI"
      }
    },
    {
      "cell_type": "code",
      "source": [
        "from sklearn.model_selection import GridSearchCV\n",
        "\n",
        "# Define the parameter grid for hyperparameter tuning\n",
        "param_grid = {\n",
        "    'model__n_estimators': [100, 200],\n",
        "    'model__learning_rate': [0.01, 0.1],\n",
        "    'model__max_depth': [3, 5]\n",
        "}\n",
        "\n",
        "# Initialize the Gradient Boosting Regressor within a Pipeline\n",
        "gb_model = Pipeline(steps=[\n",
        "    ('preprocessor', preprocessor),\n",
        "    ('model', GradientBoostingRegressor(random_state=42))\n",
        "])\n",
        "\n",
        "# Set up GridSearchCV for hyperparameter tuning\n",
        "grid_search = GridSearchCV(gb_model, param_grid, cv=3, n_jobs=-1, scoring='neg_mean_squared_error')\n",
        "\n",
        "# Fit GridSearchCV on the training data\n",
        "grid_search.fit(X_train, y_train)\n",
        "\n",
        "# Print best hyperparameters\n",
        "print(\"Best parameters for Gradient Boosting Machines:\", grid_search.best_params_)\n"
      ],
      "metadata": {
        "colab": {
          "base_uri": "https://localhost:8080/"
        },
        "id": "wFu56RgBwfIp",
        "outputId": "b54cb662-f7c0-41f0-df6f-5c9dc9ce5afc"
      },
      "execution_count": 8,
      "outputs": [
        {
          "output_type": "stream",
          "name": "stdout",
          "text": [
            "Best parameters for Gradient Boosting Machines: {'model__learning_rate': 0.1, 'model__max_depth': 3, 'model__n_estimators': 200}\n"
          ]
        }
      ]
    },
    {
      "cell_type": "markdown",
      "source": [
        "#Predicting on Test Data"
      ],
      "metadata": {
        "id": "dzXRvfJPyu7p"
      }
    },
    {
      "cell_type": "code",
      "source": [
        "import numpy as np\n",
        "import pandas as pd\n",
        "from sklearn.preprocessing import OneHotEncoder, StandardScaler\n",
        "from sklearn.compose import ColumnTransformer\n",
        "from sklearn.pipeline import Pipeline\n",
        "from sklearn.ensemble import GradientBoostingRegressor\n",
        "from sklearn.impute import SimpleImputer\n",
        "\n",
        "# Load the test dataset\n",
        "test = pd.read_csv('/content/test.csv')\n",
        "\n",
        "# Convert 'date' column to datetime\n",
        "test['date'] = pd.to_datetime(test['date'])\n",
        "\n",
        "# Extract additional features from the date\n",
        "test['year'] = test['date'].dt.year\n",
        "test['month'] = test['date'].dt.month\n",
        "test['day'] = test['date'].dt.day\n",
        "test['dayofweek'] = test['date'].dt.dayofweek\n",
        "test['weekofyear'] = test['date'].dt.isocalendar().week\n",
        "\n",
        "# Sort test data by 'Item Id' and 'date' to ensure proper time series operations\n",
        "test = test.sort_values(by=['Item Id', 'date'])\n",
        "\n",
        "# Create lag features and rolling mean features for the test dataset\n",
        "test['units_lag_1'] = test.groupby('Item Id')['unit_price'].shift(1)\n",
        "test['units_lag_7'] = test.groupby('Item Id')['unit_price'].shift(7)\n",
        "test['units_lag_30'] = test.groupby('Item Id')['unit_price'].shift(30)\n",
        "test['units_roll_mean_7'] = test.groupby('Item Id')['unit_price'].transform(lambda x: x.rolling(7).mean())\n",
        "test['units_roll_mean_30'] = test.groupby('Item Id')['unit_price'].transform(lambda x: x.rolling(30).mean())\n",
        "\n",
        "# Handle missing values in the test dataset created by lag and rolling window operations\n",
        "test.fillna(0, inplace=True)\n",
        "\n",
        "# Define the feature matrix for the test data\n",
        "X_test = test.drop(['date', 'Item Id', 'Item Name'], axis=1)\n",
        "\n",
        "# Define categorical and numerical features\n",
        "categorical_features = ['ID', 'anarix_id']\n",
        "numerical_features = X_test.select_dtypes(include=[np.number]).columns.tolist()\n",
        "\n",
        "# Create a column transformer for preprocessing\n",
        "preprocessor = ColumnTransformer(\n",
        "    transformers=[\n",
        "        ('cat', OneHotEncoder(handle_unknown='ignore'), categorical_features),\n",
        "        ('num', Pipeline(steps=[\n",
        "            ('imputer', SimpleImputer(strategy='mean')),\n",
        "            ('scaler', StandardScaler())\n",
        "        ]), numerical_features)\n",
        "    ],\n",
        "    remainder='passthrough'\n",
        ")\n",
        "\n",
        "# Initialize the Gradient Boosting Regressor with best hyperparameters\n",
        "best_gb_model = Pipeline(steps=[\n",
        "    ('preprocessor', preprocessor),\n",
        "    ('model', GradientBoostingRegressor(n_estimators=200, learning_rate=0.1, max_depth=3, random_state=42))\n",
        "])\n",
        "\n",
        "# Fit the model on the training data again\n",
        "best_gb_model.fit(X_train, y_train)\n",
        "\n",
        "# Predict the target variable for the test dataset\n",
        "test['TARGET'] = best_gb_model.predict(X_test)\n",
        "\n",
        "# Create a submission file\n",
        "submission = test[['date', 'Item Id', 'TARGET']]\n",
        "submission.to_csv('sample_submission.csv', index=False)\n",
        "\n",
        "print(\"Submission file created successfully.\")\n"
      ],
      "metadata": {
        "colab": {
          "base_uri": "https://localhost:8080/"
        },
        "id": "dyMoUJZDyuR7",
        "outputId": "b0618f51-ac23-4d9e-c2fa-05c62f866ee5"
      },
      "execution_count": 9,
      "outputs": [
        {
          "output_type": "stream",
          "name": "stdout",
          "text": [
            "Submission file created successfully.\n"
          ]
        }
      ]
    }
  ]
}